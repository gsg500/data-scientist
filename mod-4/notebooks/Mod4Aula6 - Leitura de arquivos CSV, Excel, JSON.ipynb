{
 "cells": [
  {
   "cell_type": "markdown",
   "metadata": {},
   "source": [
    "# Leitura de arquivos CSV, Excel, JSON"
   ]
  },
  {
   "cell_type": "markdown",
   "metadata": {},
   "source": [
    "# Lendo CSV"
   ]
  },
  {
   "cell_type": "markdown",
   "metadata": {},
   "source": [
    "## BNDESPar\n",
    "- https://pt.wikipedia.org/wiki/Banco_Nacional_de_Desenvolvimento_Econ%C3%B4mico_e_Social\n",
    "- https://pt.wikipedia.org/wiki/BNDESPAR\n",
    "- https://dados.gov.br/dataset/renda-variavel\n",
    "    - https://dadosabertos.bndes.gov.br/dataset/68a85772-df73-4c8b-8b8c-398f494fcca8/resource/10ff2d60-02d1-4619-8e42-24fc2a5927dd/download/renda-variavel-participacoes-acionarias-historico-da-carteira.csv\n",
    "- https://www.bndes.gov.br/wps/portal/site/home/transparencia/consulta-operacoes-bndes/carteira-acionaria"
   ]
  },
  {
   "cell_type": "code",
   "execution_count": 2,
   "metadata": {
    "ExecuteTime": {
     "end_time": "2021-05-23T22:16:00.740101Z",
     "start_time": "2021-05-23T22:16:00.268356Z"
    }
   },
   "outputs": [],
   "source": [
    "import pandas as pd"
   ]
  },
  {
   "cell_type": "code",
   "execution_count": 4,
   "metadata": {
    "ExecuteTime": {
     "end_time": "2021-05-23T22:16:50.491625Z",
     "start_time": "2021-05-23T22:16:49.098810Z"
    },
    "scrolled": true
   },
   "outputs": [
    {
     "data": {
      "text/html": [
       "<div>\n",
       "<style scoped>\n",
       "    .dataframe tbody tr th:only-of-type {\n",
       "        vertical-align: middle;\n",
       "    }\n",
       "\n",
       "    .dataframe tbody tr th {\n",
       "        vertical-align: top;\n",
       "    }\n",
       "\n",
       "    .dataframe thead th {\n",
       "        text-align: right;\n",
       "    }\n",
       "</style>\n",
       "<table border=\"1\" class=\"dataframe\">\n",
       "  <thead>\n",
       "    <tr style=\"text-align: right;\">\n",
       "      <th></th>\n",
       "      <th>sigla</th>\n",
       "      <th>razao_social</th>\n",
       "      <th>cnpj</th>\n",
       "      <th>tipo_de_ativo</th>\n",
       "      <th>ano</th>\n",
       "      <th>setor_de_atividade</th>\n",
       "      <th>total_pp</th>\n",
       "      <th>on_pp</th>\n",
       "      <th>pn_pp</th>\n",
       "      <th>aberta_fechada</th>\n",
       "      <th>acordo_de_acionistas_em_vigor</th>\n",
       "      <th>indicado_para_conselho_de_administracao</th>\n",
       "      <th>indicado_para_conselho_fiscal</th>\n",
       "    </tr>\n",
       "  </thead>\n",
       "  <tbody>\n",
       "    <tr>\n",
       "      <th>0</th>\n",
       "      <td>ABICO</td>\n",
       "      <td>ABICO - CIA. DE INVESTIMENTOS ÁRABE E BRASILEIRO</td>\n",
       "      <td>42.470.443/0001-96</td>\n",
       "      <td>PARTICIPAÇÃO ACIONÁRIA</td>\n",
       "      <td>2021</td>\n",
       "      <td>OUTROS SETORES</td>\n",
       "      <td>35.0</td>\n",
       "      <td>35.0</td>\n",
       "      <td>0.0</td>\n",
       "      <td>FECHADA</td>\n",
       "      <td>NÃO</td>\n",
       "      <td>NÃO</td>\n",
       "      <td>NÃO</td>\n",
       "    </tr>\n",
       "    <tr>\n",
       "      <th>1</th>\n",
       "      <td>ABICO</td>\n",
       "      <td>ABICO - CIA. DE INVESTIMENTOS ÁRABE E BRASILEIRO</td>\n",
       "      <td>42.470.443/0001-96</td>\n",
       "      <td>PARTICIPAÇÃO ACIONÁRIA</td>\n",
       "      <td>2020</td>\n",
       "      <td>OUTROS SETORES</td>\n",
       "      <td>35.0</td>\n",
       "      <td>35.0</td>\n",
       "      <td>0.0</td>\n",
       "      <td>FECHADA</td>\n",
       "      <td>NÃO</td>\n",
       "      <td>NÃO</td>\n",
       "      <td>NÃO</td>\n",
       "    </tr>\n",
       "    <tr>\n",
       "      <th>2</th>\n",
       "      <td>ABICO</td>\n",
       "      <td>ABICO - CIA. DE INVESTIMENTOS ÁRABE E BRASILEIRO</td>\n",
       "      <td>42.470.443/0001-96</td>\n",
       "      <td>PARTICIPAÇÃO ACIONÁRIA</td>\n",
       "      <td>2019</td>\n",
       "      <td>OUTROS SETORES</td>\n",
       "      <td>35.0</td>\n",
       "      <td>35.0</td>\n",
       "      <td>0.0</td>\n",
       "      <td>FECHADA</td>\n",
       "      <td>NÃO</td>\n",
       "      <td>NÃO</td>\n",
       "      <td>NÃO</td>\n",
       "    </tr>\n",
       "    <tr>\n",
       "      <th>3</th>\n",
       "      <td>ABICO</td>\n",
       "      <td>ABICO - CIA. DE INVESTIMENTOS ÁRABE E BRASILEIRO</td>\n",
       "      <td>42.470.443/0001-96</td>\n",
       "      <td>PARTICIPAÇÃO ACIONÁRIA</td>\n",
       "      <td>2018</td>\n",
       "      <td>OUTROS SETORES</td>\n",
       "      <td>35.0</td>\n",
       "      <td>35.0</td>\n",
       "      <td>0.0</td>\n",
       "      <td>FECHADA</td>\n",
       "      <td>NÃO</td>\n",
       "      <td>NÃO</td>\n",
       "      <td>NÃO</td>\n",
       "    </tr>\n",
       "    <tr>\n",
       "      <th>4</th>\n",
       "      <td>ABICO</td>\n",
       "      <td>ABICO - CIA. DE INVESTIMENTOS ÁRABE E BRASILEIRO</td>\n",
       "      <td>42.470.443/0001-96</td>\n",
       "      <td>PARTICIPAÇÃO ACIONÁRIA</td>\n",
       "      <td>2017</td>\n",
       "      <td>OUTROS SETORES</td>\n",
       "      <td>35.0</td>\n",
       "      <td>35.0</td>\n",
       "      <td>0.0</td>\n",
       "      <td>FECHADA</td>\n",
       "      <td>NÃO</td>\n",
       "      <td>NÃO</td>\n",
       "      <td>NÃO</td>\n",
       "    </tr>\n",
       "  </tbody>\n",
       "</table>\n",
       "</div>"
      ],
      "text/plain": [
       "   sigla                                      razao_social  \\\n",
       "0  ABICO  ABICO - CIA. DE INVESTIMENTOS ÁRABE E BRASILEIRO   \n",
       "1  ABICO  ABICO - CIA. DE INVESTIMENTOS ÁRABE E BRASILEIRO   \n",
       "2  ABICO  ABICO - CIA. DE INVESTIMENTOS ÁRABE E BRASILEIRO   \n",
       "3  ABICO  ABICO - CIA. DE INVESTIMENTOS ÁRABE E BRASILEIRO   \n",
       "4  ABICO  ABICO - CIA. DE INVESTIMENTOS ÁRABE E BRASILEIRO   \n",
       "\n",
       "                 cnpj           tipo_de_ativo   ano setor_de_atividade  \\\n",
       "0  42.470.443/0001-96  PARTICIPAÇÃO ACIONÁRIA  2021     OUTROS SETORES   \n",
       "1  42.470.443/0001-96  PARTICIPAÇÃO ACIONÁRIA  2020     OUTROS SETORES   \n",
       "2  42.470.443/0001-96  PARTICIPAÇÃO ACIONÁRIA  2019     OUTROS SETORES   \n",
       "3  42.470.443/0001-96  PARTICIPAÇÃO ACIONÁRIA  2018     OUTROS SETORES   \n",
       "4  42.470.443/0001-96  PARTICIPAÇÃO ACIONÁRIA  2017     OUTROS SETORES   \n",
       "\n",
       "   total_pp  on_pp  pn_pp aberta_fechada acordo_de_acionistas_em_vigor  \\\n",
       "0      35.0   35.0    0.0        FECHADA                           NÃO   \n",
       "1      35.0   35.0    0.0        FECHADA                           NÃO   \n",
       "2      35.0   35.0    0.0        FECHADA                           NÃO   \n",
       "3      35.0   35.0    0.0        FECHADA                           NÃO   \n",
       "4      35.0   35.0    0.0        FECHADA                           NÃO   \n",
       "\n",
       "  indicado_para_conselho_de_administracao indicado_para_conselho_fiscal  \n",
       "0                                     NÃO                           NÃO  \n",
       "1                                     NÃO                           NÃO  \n",
       "2                                     NÃO                           NÃO  \n",
       "3                                     NÃO                           NÃO  \n",
       "4                                     NÃO                           NÃO  "
      ]
     },
     "execution_count": 4,
     "metadata": {},
     "output_type": "execute_result"
    }
   ],
   "source": [
    "participacoes_acionarias = pd.read_csv(\n",
    "    'https://dadosabertos.bndes.gov.br/dataset/68a85772-df73-4c8b-8b8c-398f494fcca8/resource/10ff2d60-02d1-4619-8e42-24fc2a5927dd/download/renda-variavel-participacoes-acionarias-historico-da-carteira.csv',\n",
    "    sep=';',\n",
    "    decimal=',')\n",
    "participacoes_acionarias.head()"
   ]
  },
  {
   "cell_type": "code",
   "execution_count": 5,
   "metadata": {
    "ExecuteTime": {
     "end_time": "2021-05-23T22:17:48.379418Z",
     "start_time": "2021-05-23T22:17:48.363437Z"
    }
   },
   "outputs": [
    {
     "name": "stdout",
     "output_type": "stream",
     "text": [
      "<class 'pandas.core.frame.DataFrame'>\n",
      "RangeIndex: 2065 entries, 0 to 2064\n",
      "Data columns (total 13 columns):\n",
      " #   Column                                   Non-Null Count  Dtype  \n",
      "---  ------                                   --------------  -----  \n",
      " 0   sigla                                    2065 non-null   object \n",
      " 1   razao_social                             2065 non-null   object \n",
      " 2   cnpj                                     2064 non-null   object \n",
      " 3   tipo_de_ativo                            2065 non-null   object \n",
      " 4   ano                                      2065 non-null   int64  \n",
      " 5   setor_de_atividade                       2061 non-null   object \n",
      " 6   total_pp                                 2042 non-null   float64\n",
      " 7   on_pp                                    2042 non-null   float64\n",
      " 8   pn_pp                                    2042 non-null   float64\n",
      " 9   aberta_fechada                           2064 non-null   object \n",
      " 10  acordo_de_acionistas_em_vigor            2065 non-null   object \n",
      " 11  indicado_para_conselho_de_administracao  2065 non-null   object \n",
      " 12  indicado_para_conselho_fiscal            2065 non-null   object \n",
      "dtypes: float64(3), int64(1), object(9)\n",
      "memory usage: 209.9+ KB\n"
     ]
    }
   ],
   "source": [
    "participacoes_acionarias.info()"
   ]
  },
  {
   "cell_type": "code",
   "execution_count": null,
   "metadata": {},
   "outputs": [],
   "source": []
  },
  {
   "cell_type": "markdown",
   "metadata": {},
   "source": [
    "### Qual a quantidade de participações em cada ano?"
   ]
  },
  {
   "cell_type": "code",
   "execution_count": 6,
   "metadata": {
    "ExecuteTime": {
     "end_time": "2021-05-23T22:18:33.679055Z",
     "start_time": "2021-05-23T22:18:33.664065Z"
    }
   },
   "outputs": [
    {
     "data": {
      "text/plain": [
       "2011    172\n",
       "2009    158\n",
       "2012    157\n",
       "2013    155\n",
       "2010    154\n",
       "2008    145\n",
       "2007    143\n",
       "2014    133\n",
       "2006    130\n",
       "2015    125\n",
       "2016    124\n",
       "2017    108\n",
       "2018    101\n",
       "2019     87\n",
       "2020     87\n",
       "2021     86\n",
       "Name: ano, dtype: int64"
      ]
     },
     "execution_count": 6,
     "metadata": {},
     "output_type": "execute_result"
    }
   ],
   "source": [
    "participacoes_acionarias['ano'].value_counts()"
   ]
  },
  {
   "cell_type": "markdown",
   "metadata": {},
   "source": [
    "### Em quais empresas o BNDESP já teve participação?"
   ]
  },
  {
   "cell_type": "code",
   "execution_count": 8,
   "metadata": {
    "ExecuteTime": {
     "end_time": "2021-05-23T22:19:33.576234Z",
     "start_time": "2021-05-23T22:19:33.559246Z"
    }
   },
   "outputs": [
    {
     "data": {
      "text/plain": [
       "array(['ABICO', 'AÇOS VILLARES', 'AES BRASIL ENER', 'AES COMM RJ',\n",
       "       'AES ELPA', 'AES TE', 'AES TH', 'AES TIETÊ', 'AES TIETÊ ENERG',\n",
       "       'AES URUGUAIANA', 'ÁGUIA', 'ALCOOLQUÍMICA', 'ALFATEST', 'ALTUS',\n",
       "       'ALUPAR', 'AMATA', 'AMBEV', 'AMERICANAS', 'AMERICEL', 'ARACRUZ',\n",
       "       'ARCELORMITTAL', 'AUTEL', 'BANCO DO BRASIL', 'BCPAR', 'BEMATECH',\n",
       "       'BERTIN', 'BIO FILL', 'BIOMM', 'BIONNOVATION', 'BLOCKBIT',\n",
       "       'BM&F BOVESPA', 'BNB', 'BOM GOSTO', 'BOMBRIL', 'BR MALLS',\n",
       "       'BRADESCO', 'BRADESPAR', 'BRASAGRO', 'BRASIL FOODS',\n",
       "       'BRASIL TEL PART', 'BRASILIANA PART', 'BRASILINTERPART', 'BRASKEM',\n",
       "       'BRASPÉROLA', 'BRICLOG', 'BRQ', 'CADAM', 'CARBOMIL', 'CASA ANGLO',\n",
       "       'CASAL', 'CBD', 'CBPAK', 'CCR', 'CCX', 'CEAL', 'CEG', 'CEMIG',\n",
       "       'CEMIG DISTRIB.', 'CEMIG GT', 'CESP', 'CETIP S.A.', 'CHAPECÓ',\n",
       "       'CI&T', 'CIELO', 'CIMETAL', 'CIPHER', 'CLAMPER', 'CLARO', 'COMTEX',\n",
       "       'COMTRAFO', 'COPASA', 'COPEL', 'COSAN', 'COSAN LOG', 'COTEMINAS',\n",
       "       'CPFL ENERGIA', 'CRP CADERI', 'CRSEC', 'CSN', 'CTC', 'CTC/RJ',\n",
       "       'CTTU/RECIFE', 'CTX', 'CYRELA REALTY', 'DETEN', 'DIGITEL', 'EBP',\n",
       "       'ECORODOVIAS INF', 'ELEBRA', 'ELETROACRE', 'ELETROBRÁS',\n",
       "       'ELETROPAULO', 'ELETROPAULO TEL', 'EMAE', 'EMBRAER',\n",
       "       'EMBRATEL OPER.', 'EMBRATEL PART.', 'ENB', 'ENERGISA',\n",
       "       'ENERGISA MT', 'ENEVA', 'ENGIE BRASIL', 'EQUATORIAL', 'ERB',\n",
       "       'FD ETF ICO2', 'FIAGRIL PART.', 'FIBRIA', 'FOTON', 'GAFISA',\n",
       "       'GENOA', 'GERDAU', 'GERDAU MET.', 'GOL', 'GRANBIO', 'GRANO',\n",
       "       'GRAÚNA', 'GRUPO A', 'HIDROVIAS', 'HIGH BRIDGE', 'HOSPITAL FÊMINA',\n",
       "       'HYPERA', 'IBEMA', 'IGUA SANEAMENTO', 'INDEPENDÊNCIA', 'INEPAR',\n",
       "       'INEPAR ENERGIA', 'IOCHPE', 'ITAITUBA', 'ITAÚ UNIBANCO',\n",
       "       'ITAUCORP', 'ITAÚSA', 'ITAUTINGA', 'IVESA', 'JBS', 'KEPLER WEBER',\n",
       "       'KLABIN', 'KLICK NET', 'KOBLITZ', 'KOSMOS', 'LATINA', 'LBR',\n",
       "       'LDC-BIOENERGIA', 'LDC-SEV', 'LIFEMED', 'LIGHT', 'LINX',\n",
       "       'LIQ. PART', 'LLX', 'LOG', 'LORENZ', 'LUPATECH', 'MADEF',\n",
       "       'MAGNESITA REFR.', 'MAGNESITA S.A.', 'MANGELS', 'MARCOPOLO',\n",
       "       'MARFRIG', 'MARLIM', 'MARLIMPAR', 'MECTRON', 'METALFRIO',\n",
       "       'METANOR', 'METRÔ/SP', 'MMX MINERAÇÃO', 'MOBIGROUP', 'MRV',\n",
       "       'MUNDIAL S.A.', 'MWI (ZUM NET)', 'NANOCORE', 'NATURA', 'NESBER',\n",
       "       'NET', 'NETUNO', 'NILZA', 'NORTEC', 'NOVA AMERICA', 'NOVADATA',\n",
       "       'NOVAMARLIMPAR', 'NUTRELLA', 'NUTRIPLANT', 'OCEANA',\n",
       "       'ODEBRECHT AGRO', 'OGP', 'OI', 'OPENCOMMERCE', 'ORBISAT', 'OTP',\n",
       "       'OURO FINO PAR', 'OURO FINO SAUDE', 'PADTEC', 'PADTEC HOLDING',\n",
       "       'PARANAPANEMA', 'PDG REALTY', 'PETROBRAS', 'POLY EASY', 'PORTX',\n",
       "       'PRATICA', 'PRÁTICA PAR', 'PROCABLE', 'PROGEN', 'PRONOR',\n",
       "       'QUALITY SOFT', 'RECEPTA', 'REDE ENERGIA', 'REDECARD', 'REIVAX',\n",
       "       'RELASTOMER', 'RENNER', 'RENOVA', 'RFFSA', 'RIOPOL', 'ROCHA',\n",
       "       'ROMI', 'ROOSTER', 'ROSSI', 'RUMO', 'RUMO LOGÍSTICA', 'SAM',\n",
       "       'SANTANDER', 'SÃO MARTINHO', 'SAPORE', 'SBCE', 'SETAL', 'SINQIA',\n",
       "       'SISA', 'SOROSISTEM', 'SOUZA CRUZ', 'SPRINGER', 'SPRINGS GLOBAL',\n",
       "       'STARA', 'SUNEW', 'SUZANO', 'TAESA', 'TAUM CHEMIE', 'TBM',\n",
       "       'TECNORED', 'TECPAR', 'TECSIS', 'TEIKON', 'TELEBRÁS',\n",
       "       'TELEFÔNICA BR', 'TELEMAR N LESTE', 'TELEMAR PART',\n",
       "       'TELEMIG CEL PAR', 'TELEMIG CELULAR', 'TIM PARTICIP.',\n",
       "       'TNLP (TELEMAR)', 'TOPSPORTS', 'TOTVS', 'TRANS. PAULISTA',\n",
       "       'TRANSNORDESTINA', 'TRANSURB', 'TREVISA', 'TRIUNFO', 'TUPY',\n",
       "       'UNITEC', 'USIMINAS', 'VALE', 'VALEPAR', 'VALLÉE', 'VBC ENERGIA',\n",
       "       'VICUNHA TÊXTIL', 'VIGOR', 'VIVO', 'VLI', 'VSE', 'VULCABRÁS',\n",
       "       'ZENVIA'], dtype=object)"
      ]
     },
     "execution_count": 8,
     "metadata": {},
     "output_type": "execute_result"
    }
   ],
   "source": [
    "participacoes_acionarias.sigla.unique()"
   ]
  },
  {
   "cell_type": "markdown",
   "metadata": {},
   "source": [
    "### Em quais empresas o BNDESP tem participação em 2021?"
   ]
  },
  {
   "cell_type": "code",
   "execution_count": 9,
   "metadata": {
    "ExecuteTime": {
     "end_time": "2021-05-23T22:20:24.833988Z",
     "start_time": "2021-05-23T22:20:24.800027Z"
    }
   },
   "outputs": [
    {
     "data": {
      "text/plain": [
       "array(['ABICO', 'AES BRASIL ENER', 'AES ELPA', 'ALCOOLQUÍMICA', 'AMATA',\n",
       "       'BIOMM', 'BLOCKBIT', 'BOMBRIL', 'BRASAGRO', 'BRASILIANA PART',\n",
       "       'BRASILINTERPART', 'BRASPÉROLA', 'BRQ', 'CADAM', 'CARBOMIL',\n",
       "       'CASA ANGLO', 'CASAL', 'CEG', 'CEMIG', 'CHAPECÓ', 'COPASA',\n",
       "       'COPEL', 'COTEMINAS', 'CSN', 'CTC', 'CTC/RJ', 'CTTU/RECIFE',\n",
       "       'DETEN', 'EBP', 'ELEBRA', 'ELETROBRÁS', 'EMBRAER', 'ENERGISA',\n",
       "       'ENGIE BRASIL', 'ERB', 'GERDAU MET.', 'GRANBIO', 'HIDROVIAS',\n",
       "       'IGUA SANEAMENTO', 'INDEPENDÊNCIA', 'IOCHPE', 'ITAITUBA',\n",
       "       'ITAUTINGA', 'JBS', 'KLABIN', 'KOSMOS', 'LBR', 'LIFEMED', 'LORENZ',\n",
       "       'MADEF', 'METANOR', 'METRÔ/SP', 'NESBER', 'NETUNO', 'NILZA',\n",
       "       'NORTEC', 'NOVA AMERICA', 'NOVADATA', 'OCEANA', 'OI', 'OTP',\n",
       "       'OURO FINO SAUDE', 'PADTEC HOLDING', 'PARANAPANEMA', 'PETROBRAS',\n",
       "       'PRATICA', 'PROGEN', 'QUALITY SOFT', 'RECEPTA', 'RENOVA', 'ROCHA',\n",
       "       'SAM', 'SOROSISTEM', 'SPRINGER', 'SPRINGS GLOBAL', 'STARA',\n",
       "       'SUNEW', 'TAUM CHEMIE', 'TBM', 'TRANSNORDESTINA', 'TREVISA',\n",
       "       'TRIUNFO', 'TUPY', 'UNITEC', 'VLI', 'VULCABRÁS'], dtype=object)"
      ]
     },
     "execution_count": 9,
     "metadata": {},
     "output_type": "execute_result"
    }
   ],
   "source": [
    "participacoes_acionarias[participacoes_acionarias['ano'] == 2021].sigla.unique()"
   ]
  },
  {
   "cell_type": "code",
   "execution_count": null,
   "metadata": {},
   "outputs": [],
   "source": []
  },
  {
   "cell_type": "code",
   "execution_count": null,
   "metadata": {},
   "outputs": [],
   "source": []
  },
  {
   "cell_type": "markdown",
   "metadata": {},
   "source": [
    "# Lendo Excel"
   ]
  },
  {
   "cell_type": "markdown",
   "metadata": {},
   "source": [
    "\n",
    "## Brasileirão\n",
    "- https://github.com/adaoduque/Brasileirao_Dataset\n",
    "- https://github.com/adaoduque/Brasileirao_Dataset/raw/master/campeonato-brasileiro-full.xlsx\n",
    "- https://raw.githubusercontent.com/adaoduque/Brasileirao_Dataset/master/campeonato-brasileiro-estatisticas-full.csv"
   ]
  },
  {
   "cell_type": "code",
   "execution_count": 10,
   "metadata": {
    "ExecuteTime": {
     "end_time": "2021-05-23T22:23:33.099350Z",
     "start_time": "2021-05-23T22:23:30.149256Z"
    }
   },
   "outputs": [],
   "source": [
    "brasileirao = pd.read_excel('https://github.com/adaoduque/Brasileirao_Dataset/raw/master/campeonato-brasileiro-full.xlsx')"
   ]
  },
  {
   "cell_type": "code",
   "execution_count": 11,
   "metadata": {
    "ExecuteTime": {
     "end_time": "2021-05-23T22:23:35.627557Z",
     "start_time": "2021-05-23T22:23:35.596574Z"
    }
   },
   "outputs": [
    {
     "data": {
      "text/html": [
       "<div>\n",
       "<style scoped>\n",
       "    .dataframe tbody tr th:only-of-type {\n",
       "        vertical-align: middle;\n",
       "    }\n",
       "\n",
       "    .dataframe tbody tr th {\n",
       "        vertical-align: top;\n",
       "    }\n",
       "\n",
       "    .dataframe thead th {\n",
       "        text-align: right;\n",
       "    }\n",
       "</style>\n",
       "<table border=\"1\" class=\"dataframe\">\n",
       "  <thead>\n",
       "    <tr style=\"text-align: right;\">\n",
       "      <th></th>\n",
       "      <th>Rodada</th>\n",
       "      <th>Data</th>\n",
       "      <th>Horário</th>\n",
       "      <th>Dia</th>\n",
       "      <th>Mandante</th>\n",
       "      <th>Visitante</th>\n",
       "      <th>Vencedor</th>\n",
       "      <th>Arena</th>\n",
       "      <th>Mandante Placar</th>\n",
       "      <th>Visitante Placar</th>\n",
       "      <th>Estado Mandante</th>\n",
       "      <th>Estado Visitante</th>\n",
       "      <th>Estado Vencedor</th>\n",
       "    </tr>\n",
       "  </thead>\n",
       "  <tbody>\n",
       "    <tr>\n",
       "      <th>0</th>\n",
       "      <td>1</td>\n",
       "      <td>2000-07-29</td>\n",
       "      <td>16h00</td>\n",
       "      <td>Sábado</td>\n",
       "      <td>Fluminense</td>\n",
       "      <td>Bahia</td>\n",
       "      <td>Fluminense</td>\n",
       "      <td>Maracanã</td>\n",
       "      <td>2</td>\n",
       "      <td>0</td>\n",
       "      <td>RJ</td>\n",
       "      <td>BA</td>\n",
       "      <td>RJ</td>\n",
       "    </tr>\n",
       "    <tr>\n",
       "      <th>1</th>\n",
       "      <td>1</td>\n",
       "      <td>2000-07-29</td>\n",
       "      <td>16h00</td>\n",
       "      <td>Sábado</td>\n",
       "      <td>Vasco</td>\n",
       "      <td>Sport</td>\n",
       "      <td>Sport</td>\n",
       "      <td>São Januário</td>\n",
       "      <td>0</td>\n",
       "      <td>2</td>\n",
       "      <td>RJ</td>\n",
       "      <td>PE</td>\n",
       "      <td>PE</td>\n",
       "    </tr>\n",
       "    <tr>\n",
       "      <th>2</th>\n",
       "      <td>1</td>\n",
       "      <td>2000-07-29</td>\n",
       "      <td>16h00</td>\n",
       "      <td>Sábado</td>\n",
       "      <td>Vitória</td>\n",
       "      <td>Palmeiras</td>\n",
       "      <td>Vitória</td>\n",
       "      <td>Barradão</td>\n",
       "      <td>4</td>\n",
       "      <td>1</td>\n",
       "      <td>ES</td>\n",
       "      <td>SP</td>\n",
       "      <td>ES</td>\n",
       "    </tr>\n",
       "    <tr>\n",
       "      <th>3</th>\n",
       "      <td>1</td>\n",
       "      <td>2000-07-30</td>\n",
       "      <td>17h00</td>\n",
       "      <td>Domingo</td>\n",
       "      <td>Botafogo-RJ</td>\n",
       "      <td>Atlético-MG</td>\n",
       "      <td>-</td>\n",
       "      <td>Caio Martins</td>\n",
       "      <td>0</td>\n",
       "      <td>0</td>\n",
       "      <td>RJ</td>\n",
       "      <td>MG</td>\n",
       "      <td>-</td>\n",
       "    </tr>\n",
       "    <tr>\n",
       "      <th>4</th>\n",
       "      <td>1</td>\n",
       "      <td>2000-07-30</td>\n",
       "      <td>18h30</td>\n",
       "      <td>Domingo</td>\n",
       "      <td>Juventude</td>\n",
       "      <td>Flamengo</td>\n",
       "      <td>-</td>\n",
       "      <td>Alfredo Jaconi</td>\n",
       "      <td>1</td>\n",
       "      <td>1</td>\n",
       "      <td>RS</td>\n",
       "      <td>RJ</td>\n",
       "      <td>-</td>\n",
       "    </tr>\n",
       "  </tbody>\n",
       "</table>\n",
       "</div>"
      ],
      "text/plain": [
       "  Rodada       Data Horário      Dia     Mandante    Visitante    Vencedor  \\\n",
       "0      1 2000-07-29   16h00   Sábado   Fluminense        Bahia  Fluminense   \n",
       "1      1 2000-07-29   16h00   Sábado        Vasco        Sport       Sport   \n",
       "2      1 2000-07-29   16h00   Sábado      Vitória    Palmeiras     Vitória   \n",
       "3      1 2000-07-30   17h00  Domingo  Botafogo-RJ  Atlético-MG           -   \n",
       "4      1 2000-07-30   18h30  Domingo    Juventude     Flamengo           -   \n",
       "\n",
       "            Arena  Mandante Placar  Visitante Placar Estado Mandante  \\\n",
       "0        Maracanã                2                 0              RJ   \n",
       "1    São Januário                0                 2              RJ   \n",
       "2        Barradão                4                 1              ES   \n",
       "3    Caio Martins                0                 0              RJ   \n",
       "4  Alfredo Jaconi                1                 1              RS   \n",
       "\n",
       "  Estado Visitante Estado Vencedor  \n",
       "0               BA              RJ  \n",
       "1               PE              PE  \n",
       "2               SP              ES  \n",
       "3               MG               -  \n",
       "4               RJ               -  "
      ]
     },
     "execution_count": 11,
     "metadata": {},
     "output_type": "execute_result"
    }
   ],
   "source": [
    "brasileirao.head()"
   ]
  },
  {
   "cell_type": "code",
   "execution_count": 12,
   "metadata": {
    "ExecuteTime": {
     "end_time": "2021-05-23T22:24:10.187850Z",
     "start_time": "2021-05-23T22:24:10.174880Z"
    }
   },
   "outputs": [
    {
     "data": {
      "text/plain": [
       "Rodada                      object\n",
       "Data                datetime64[ns]\n",
       "Horário                     object\n",
       "Dia                         object\n",
       "Mandante                    object\n",
       "Visitante                   object\n",
       "Vencedor                    object\n",
       "Arena                       object\n",
       "Mandante Placar              int64\n",
       "Visitante Placar             int64\n",
       "Estado Mandante             object\n",
       "Estado Visitante            object\n",
       "Estado Vencedor             object\n",
       "dtype: object"
      ]
     },
     "execution_count": 12,
     "metadata": {},
     "output_type": "execute_result"
    }
   ],
   "source": [
    "brasileirao.dtypes"
   ]
  },
  {
   "cell_type": "markdown",
   "metadata": {},
   "source": [
    "### Qual o maior vencedor de jogos?"
   ]
  },
  {
   "cell_type": "code",
   "execution_count": 13,
   "metadata": {
    "ExecuteTime": {
     "end_time": "2021-05-23T22:24:52.522191Z",
     "start_time": "2021-05-23T22:24:52.505195Z"
    },
    "scrolled": true
   },
   "outputs": [
    {
     "data": {
      "text/plain": [
       "-                  2148\n",
       "São Paulo           366\n",
       "Santos              333\n",
       "Grêmio              322\n",
       "Cruzeiro            322\n",
       "Internacional       322\n",
       "Flamengo            319\n",
       "Fluminense          306\n",
       "Athlético-PR        306\n",
       "Corinthians         306\n",
       "Atlético-MG         302\n",
       "Palmeiras           294\n",
       "Vasco               226\n",
       "Goiás               223\n",
       "Botafogo-RJ         210\n",
       "Coritiba            194\n",
       "Vitória             152\n",
       "Figueirense         151\n",
       "Ponte Preta         149\n",
       "Sport               139\n",
       "Bahia               135\n",
       "Paraná              104\n",
       "São Caetano         103\n",
       "Juventude            96\n",
       "Chapecoense          69\n",
       "Guarani              63\n",
       "Fortaleza            61\n",
       "Avaí                 57\n",
       "Portuguesa           57\n",
       "Ceará                54\n",
       "Náutico              54\n",
       "Atlético-GO          51\n",
       "Criciúma             50\n",
       "Paysandu             50\n",
       "América-MG           38\n",
       "Botafogo-rj          26\n",
       "Santa Cruz           25\n",
       "Gama                 21\n",
       "Bragantino           13\n",
       "Barueri              12\n",
       "Santo André          11\n",
       "Brasiliense          10\n",
       "Ipatinga              9\n",
       "CSA                   8\n",
       "Grêmio Prudente       7\n",
       "Joinville             7\n",
       "SANTOS                6\n",
       "Botafogo-SP           6\n",
       "CRUZEIRO              4\n",
       "VASCO                 4\n",
       "América-RN            4\n",
       "FLUMINENSE            4\n",
       "CORINTHIANS           3\n",
       "SPORT                 2\n",
       "INTERNACIONAL         1\n",
       "PALMEIRAS             1\n",
       "PONTE PRETA           1\n",
       "FLAMENGO              1\n",
       "portuguesa            1\n",
       "Name: Vencedor, dtype: int64"
      ]
     },
     "execution_count": 13,
     "metadata": {},
     "output_type": "execute_result"
    }
   ],
   "source": [
    "brasileirao.Vencedor.value_counts()"
   ]
  },
  {
   "cell_type": "markdown",
   "metadata": {},
   "source": [
    "### Qual a tabela de jogos vencidos por clube na temporada de 2020? \n",
    "(periodo temp = '2020-01-01' a '2021-02-26')"
   ]
  },
  {
   "cell_type": "code",
   "execution_count": 14,
   "metadata": {
    "ExecuteTime": {
     "end_time": "2021-05-23T22:26:32.586700Z",
     "start_time": "2021-05-23T22:26:32.574724Z"
    }
   },
   "outputs": [
    {
     "data": {
      "text/plain": [
       "0       False\n",
       "1       False\n",
       "2       False\n",
       "3       False\n",
       "4       False\n",
       "        ...  \n",
       "8314     True\n",
       "8315     True\n",
       "8316     True\n",
       "8317     True\n",
       "8318     True\n",
       "Name: Data, Length: 8319, dtype: bool"
      ]
     },
     "execution_count": 14,
     "metadata": {},
     "output_type": "execute_result"
    }
   ],
   "source": [
    "cond = (brasileirao['Data'] >= '2020-01-01')& (brasileirao['Data'] <= '2021-02-26')\n",
    "cond"
   ]
  },
  {
   "cell_type": "code",
   "execution_count": 16,
   "metadata": {
    "ExecuteTime": {
     "end_time": "2021-05-23T22:27:06.731593Z",
     "start_time": "2021-05-23T22:27:06.713602Z"
    }
   },
   "outputs": [
    {
     "data": {
      "text/plain": [
       "-                108\n",
       "Flamengo          21\n",
       "Atlético-MG       20\n",
       "Internacional     20\n",
       "São Paulo         18\n",
       "Fluminense        18\n",
       "Athlético-PR      15\n",
       "Palmeiras         15\n",
       "Ceará             14\n",
       "Grêmio            14\n",
       "Santos            14\n",
       "Corinthians       13\n",
       "Bragantino        13\n",
       "Bahia             12\n",
       "Atlético-GO       12\n",
       "Sport             12\n",
       "Fortaleza         10\n",
       "Vasco             10\n",
       "Goiás              9\n",
       "Coritiba           7\n",
       "Botafogo-RJ        5\n",
       "Name: Vencedor, dtype: int64"
      ]
     },
     "execution_count": 16,
     "metadata": {},
     "output_type": "execute_result"
    }
   ],
   "source": [
    "brasileirao[cond]['Vencedor'].value_counts()"
   ]
  },
  {
   "cell_type": "markdown",
   "metadata": {},
   "source": [
    "### Qual a quantidade de partidas realizadas em cada estádio?"
   ]
  },
  {
   "cell_type": "code",
   "execution_count": 18,
   "metadata": {
    "ExecuteTime": {
     "end_time": "2021-05-23T22:27:59.423751Z",
     "start_time": "2021-05-23T22:27:59.414768Z"
    }
   },
   "outputs": [
    {
     "data": {
      "text/plain": [
       "Maracanã             626\n",
       "Mineirão             466\n",
       "Morumbi              407\n",
       "Beira Rio            352\n",
       "Vila Belmiro         340\n",
       "                    ... \n",
       "Jaime Cintra           1\n",
       "Antônio Guimarães      1\n",
       "1º de Maio             1\n",
       "Papa J.Paulo II        1\n",
       "Laranjeiras            1\n",
       "Name: Arena, Length: 114, dtype: int64"
      ]
     },
     "execution_count": 18,
     "metadata": {},
     "output_type": "execute_result"
    }
   ],
   "source": [
    "brasileirao.Arena.value_counts()"
   ]
  },
  {
   "cell_type": "code",
   "execution_count": null,
   "metadata": {},
   "outputs": [],
   "source": []
  },
  {
   "cell_type": "markdown",
   "metadata": {},
   "source": [
    "# Lendo JSON"
   ]
  },
  {
   "cell_type": "markdown",
   "metadata": {},
   "source": [
    "## MeiliSearch\n",
    "- https://github.com/meilisearch/MeiliSearch\n",
    "- https://raw.githubusercontent.com/meilisearch/MeiliSearch/main/datasets/movies/movies.json"
   ]
  },
  {
   "cell_type": "code",
   "execution_count": 19,
   "metadata": {
    "ExecuteTime": {
     "end_time": "2021-05-23T22:29:12.955283Z",
     "start_time": "2021-05-23T22:29:11.015199Z"
    }
   },
   "outputs": [],
   "source": [
    "movies = pd.read_json('https://raw.githubusercontent.com/meilisearch/MeiliSearch/main/datasets/movies/movies.json')"
   ]
  },
  {
   "cell_type": "code",
   "execution_count": 20,
   "metadata": {
    "ExecuteTime": {
     "end_time": "2021-05-23T22:29:16.832002Z",
     "start_time": "2021-05-23T22:29:16.807019Z"
    }
   },
   "outputs": [
    {
     "data": {
      "text/html": [
       "<div>\n",
       "<style scoped>\n",
       "    .dataframe tbody tr th:only-of-type {\n",
       "        vertical-align: middle;\n",
       "    }\n",
       "\n",
       "    .dataframe tbody tr th {\n",
       "        vertical-align: top;\n",
       "    }\n",
       "\n",
       "    .dataframe thead th {\n",
       "        text-align: right;\n",
       "    }\n",
       "</style>\n",
       "<table border=\"1\" class=\"dataframe\">\n",
       "  <thead>\n",
       "    <tr style=\"text-align: right;\">\n",
       "      <th></th>\n",
       "      <th>id</th>\n",
       "      <th>title</th>\n",
       "      <th>poster</th>\n",
       "      <th>overview</th>\n",
       "      <th>release_date</th>\n",
       "      <th>genres</th>\n",
       "    </tr>\n",
       "  </thead>\n",
       "  <tbody>\n",
       "    <tr>\n",
       "      <th>0</th>\n",
       "      <td>287947</td>\n",
       "      <td>Shazam!</td>\n",
       "      <td>https://image.tmdb.org/t/p/w500/xnopI5Xtky18MP...</td>\n",
       "      <td>A boy is given the ability to become an adult ...</td>\n",
       "      <td>1553299200</td>\n",
       "      <td>[Action, Comedy, Fantasy]</td>\n",
       "    </tr>\n",
       "    <tr>\n",
       "      <th>1</th>\n",
       "      <td>299537</td>\n",
       "      <td>Captain Marvel</td>\n",
       "      <td>https://image.tmdb.org/t/p/w500/AtsgWhDnHTq68L...</td>\n",
       "      <td>The story follows Carol Danvers as she becomes...</td>\n",
       "      <td>1551830400</td>\n",
       "      <td>[Action, Adventure, Science Fiction]</td>\n",
       "    </tr>\n",
       "    <tr>\n",
       "      <th>2</th>\n",
       "      <td>522681</td>\n",
       "      <td>Escape Room</td>\n",
       "      <td>https://image.tmdb.org/t/p/w500/8Ls1tZ6qjGzfGH...</td>\n",
       "      <td>Six strangers find themselves in circumstances...</td>\n",
       "      <td>1546473600</td>\n",
       "      <td>[Thriller, Action, Horror, Science Fiction]</td>\n",
       "    </tr>\n",
       "    <tr>\n",
       "      <th>3</th>\n",
       "      <td>166428</td>\n",
       "      <td>How to Train Your Dragon: The Hidden World</td>\n",
       "      <td>https://image.tmdb.org/t/p/w500/xvx4Yhf0DVH8G4...</td>\n",
       "      <td>As Hiccup fulfills his dream of creating a pea...</td>\n",
       "      <td>1546473600</td>\n",
       "      <td>[Animation, Family, Adventure]</td>\n",
       "    </tr>\n",
       "    <tr>\n",
       "      <th>4</th>\n",
       "      <td>450465</td>\n",
       "      <td>Glass</td>\n",
       "      <td>https://image.tmdb.org/t/p/w500/svIDTNUoajS8dL...</td>\n",
       "      <td>In a series of escalating encounters, security...</td>\n",
       "      <td>1547596800</td>\n",
       "      <td>[Documentary]</td>\n",
       "    </tr>\n",
       "  </tbody>\n",
       "</table>\n",
       "</div>"
      ],
      "text/plain": [
       "       id                                       title  \\\n",
       "0  287947                                     Shazam!   \n",
       "1  299537                              Captain Marvel   \n",
       "2  522681                                 Escape Room   \n",
       "3  166428  How to Train Your Dragon: The Hidden World   \n",
       "4  450465                                       Glass   \n",
       "\n",
       "                                              poster  \\\n",
       "0  https://image.tmdb.org/t/p/w500/xnopI5Xtky18MP...   \n",
       "1  https://image.tmdb.org/t/p/w500/AtsgWhDnHTq68L...   \n",
       "2  https://image.tmdb.org/t/p/w500/8Ls1tZ6qjGzfGH...   \n",
       "3  https://image.tmdb.org/t/p/w500/xvx4Yhf0DVH8G4...   \n",
       "4  https://image.tmdb.org/t/p/w500/svIDTNUoajS8dL...   \n",
       "\n",
       "                                            overview  release_date  \\\n",
       "0  A boy is given the ability to become an adult ...    1553299200   \n",
       "1  The story follows Carol Danvers as she becomes...    1551830400   \n",
       "2  Six strangers find themselves in circumstances...    1546473600   \n",
       "3  As Hiccup fulfills his dream of creating a pea...    1546473600   \n",
       "4  In a series of escalating encounters, security...    1547596800   \n",
       "\n",
       "                                        genres  \n",
       "0                    [Action, Comedy, Fantasy]  \n",
       "1         [Action, Adventure, Science Fiction]  \n",
       "2  [Thriller, Action, Horror, Science Fiction]  \n",
       "3               [Animation, Family, Adventure]  \n",
       "4                                [Documentary]  "
      ]
     },
     "execution_count": 20,
     "metadata": {},
     "output_type": "execute_result"
    }
   ],
   "source": [
    "movies.head()"
   ]
  },
  {
   "cell_type": "markdown",
   "metadata": {},
   "source": [
    "### Quais são os tipos de dados das colunas?"
   ]
  },
  {
   "cell_type": "code",
   "execution_count": 21,
   "metadata": {
    "ExecuteTime": {
     "end_time": "2021-05-23T22:29:52.348281Z",
     "start_time": "2021-05-23T22:29:52.328293Z"
    }
   },
   "outputs": [
    {
     "data": {
      "text/plain": [
       "id               int64\n",
       "title           object\n",
       "poster          object\n",
       "overview        object\n",
       "release_date     int64\n",
       "genres          object\n",
       "dtype: object"
      ]
     },
     "execution_count": 21,
     "metadata": {},
     "output_type": "execute_result"
    }
   ],
   "source": [
    "movies.dtypes"
   ]
  },
  {
   "cell_type": "markdown",
   "metadata": {},
   "source": [
    "### Qual genêro predominante no conjunto de dados?"
   ]
  },
  {
   "cell_type": "code",
   "execution_count": 23,
   "metadata": {
    "ExecuteTime": {
     "end_time": "2021-05-23T22:30:44.017622Z",
     "start_time": "2021-05-23T22:30:43.932671Z"
    }
   },
   "outputs": [
    {
     "data": {
      "text/plain": [
       "Drama              7338\n",
       "Comedy             5885\n",
       "Action             3216\n",
       "Thriller           3192\n",
       "Romance            2507\n",
       "Horror             2123\n",
       "Adventure          1972\n",
       "Crime              1809\n",
       "Family             1606\n",
       "Animation          1577\n",
       "Science Fiction    1461\n",
       "Fantasy            1327\n",
       "Documentary        1166\n",
       "Mystery            1002\n",
       "Music               603\n",
       "History             554\n",
       "TV Movie            530\n",
       "War                 493\n",
       "Western             319\n",
       "Name: genres, dtype: int64"
      ]
     },
     "execution_count": 23,
     "metadata": {},
     "output_type": "execute_result"
    }
   ],
   "source": [
    "movies.genres.explode().value_counts()"
   ]
  },
  {
   "cell_type": "markdown",
   "metadata": {},
   "source": [
    "### Qual o ano de lançamento predominante da base??"
   ]
  },
  {
   "cell_type": "code",
   "execution_count": null,
   "metadata": {
    "ExecuteTime": {
     "end_time": "2021-05-22T18:21:19.529418Z",
     "start_time": "2021-05-22T18:21:19.497375Z"
    }
   },
   "outputs": [],
   "source": [
    "filmes.release_date.to_list()"
   ]
  },
  {
   "cell_type": "code",
   "execution_count": null,
   "metadata": {
    "ExecuteTime": {
     "end_time": "2021-05-22T18:23:49.192323Z",
     "start_time": "2021-05-22T18:23:49.176330Z"
    }
   },
   "outputs": [],
   "source": [
    "lst[0].year"
   ]
  },
  {
   "cell_type": "code",
   "execution_count": null,
   "metadata": {
    "ExecuteTime": {
     "end_time": "2021-05-22T18:23:53.632555Z",
     "start_time": "2021-05-22T18:23:53.592578Z"
    }
   },
   "outputs": [],
   "source": [
    "lst = []\n",
    "for filme in filmes.release_date.to_list():\n",
    "#     print(filme)\n",
    "    try:\n",
    "        lst.append(datetime.fromtimestamp(filme).year)\n",
    "    except:\n",
    "        lst.append(np.nan)\n",
    "lst"
   ]
  },
  {
   "cell_type": "code",
   "execution_count": null,
   "metadata": {
    "ExecuteTime": {
     "end_time": "2021-05-22T18:24:24.050880Z",
     "start_time": "2021-05-22T18:24:24.031879Z"
    }
   },
   "outputs": [],
   "source": [
    "filmes['ano'] = lst"
   ]
  },
  {
   "cell_type": "code",
   "execution_count": null,
   "metadata": {
    "ExecuteTime": {
     "end_time": "2021-05-22T19:57:27.854788Z",
     "start_time": "2021-05-22T19:57:27.825804Z"
    }
   },
   "outputs": [],
   "source": [
    "filmes['ano'].value_counts()"
   ]
  }
 ],
 "metadata": {
  "kernelspec": {
   "display_name": "Python 3",
   "language": "python",
   "name": "python3"
  },
  "language_info": {
   "codemirror_mode": {
    "name": "ipython",
    "version": 3
   },
   "file_extension": ".py",
   "mimetype": "text/x-python",
   "name": "python",
   "nbconvert_exporter": "python",
   "pygments_lexer": "ipython3",
   "version": "3.8.5"
  },
  "varInspector": {
   "cols": {
    "lenName": 16,
    "lenType": 16,
    "lenVar": 40
   },
   "kernels_config": {
    "python": {
     "delete_cmd_postfix": "",
     "delete_cmd_prefix": "del ",
     "library": "var_list.py",
     "varRefreshCmd": "print(var_dic_list())"
    },
    "r": {
     "delete_cmd_postfix": ") ",
     "delete_cmd_prefix": "rm(",
     "library": "var_list.r",
     "varRefreshCmd": "cat(var_dic_list()) "
    }
   },
   "types_to_exclude": [
    "module",
    "function",
    "builtin_function_or_method",
    "instance",
    "_Feature"
   ],
   "window_display": false
  }
 },
 "nbformat": 4,
 "nbformat_minor": 4
}
