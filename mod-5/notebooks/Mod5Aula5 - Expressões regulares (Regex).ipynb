{
 "cells": [
  {
   "cell_type": "markdown",
   "metadata": {},
   "source": [
    "# Índice <a name=\"Contents\"></a>\n",
    "1. [Importando bibliotecas](#import)\n",
    "2. [Expressões regulares](#regex)"
   ]
  },
  {
   "cell_type": "markdown",
   "metadata": {},
   "source": [
    "# 1. Importando bibliotecas <a name=\"import\"></a>\n",
    "\n",
    "<div style=\"text-align: right\"\n",
    "     \n",
    "[Voltar ao índice](#Contents)"
   ]
  },
  {
   "cell_type": "code",
   "execution_count": 98,
   "metadata": {
    "ExecuteTime": {
     "end_time": "2021-06-08T09:50:07.494632Z",
     "start_time": "2021-06-08T09:50:06.871341Z"
    }
   },
   "outputs": [],
   "source": [
    "import pandas as pd\n",
    "import re\n"
   ]
  },
  {
   "cell_type": "markdown",
   "metadata": {},
   "source": [
    "# 2. Expressões regulares <a name=\"regex\"></a>\n",
    "<div style=\"text-align: right\"\n",
    "     \n",
    "[Voltar ao índice](#Contents)"
   ]
  },
  {
   "cell_type": "code",
   "execution_count": 99,
   "metadata": {
    "ExecuteTime": {
     "end_time": "2021-06-08T09:50:08.776034Z",
     "start_time": "2021-06-08T09:50:08.738049Z"
    }
   },
   "outputs": [],
   "source": [
    "s = 'ddd11'"
   ]
  },
  {
   "cell_type": "code",
   "execution_count": 100,
   "metadata": {
    "ExecuteTime": {
     "end_time": "2021-06-08T09:50:09.074730Z",
     "start_time": "2021-06-08T09:50:08.904440Z"
    }
   },
   "outputs": [
    {
     "data": {
      "text/plain": [
       "3"
      ]
     },
     "execution_count": 100,
     "metadata": {},
     "output_type": "execute_result"
    }
   ],
   "source": [
    "s.find('1')"
   ]
  },
  {
   "cell_type": "code",
   "execution_count": 101,
   "metadata": {
    "ExecuteTime": {
     "end_time": "2021-06-08T09:50:09.196658Z",
     "start_time": "2021-06-08T09:50:09.183676Z"
    }
   },
   "outputs": [],
   "source": [
    "s = 'ddd21'"
   ]
  },
  {
   "cell_type": "code",
   "execution_count": 116,
   "metadata": {
    "ExecuteTime": {
     "end_time": "2021-06-08T09:51:43.028906Z",
     "start_time": "2021-06-08T09:51:43.022906Z"
    }
   },
   "outputs": [
    {
     "data": {
      "text/plain": [
       "3"
      ]
     },
     "execution_count": 116,
     "metadata": {},
     "output_type": "execute_result"
    }
   ],
   "source": [
    "s.find('2')"
   ]
  },
  {
   "cell_type": "code",
   "execution_count": 119,
   "metadata": {
    "ExecuteTime": {
     "end_time": "2021-06-08T10:03:24.085566Z",
     "start_time": "2021-06-08T10:03:24.069576Z"
    }
   },
   "outputs": [
    {
     "name": "stdout",
     "output_type": "stream",
     "text": [
      "-1\n",
      "-1\n",
      "-1\n",
      "-1\n",
      "-1\n",
      "-1\n",
      "-1\n",
      "-1\n",
      "3\n"
     ]
    }
   ],
   "source": [
    "s = 'ddd99'\n",
    "print(s.find('1'))\n",
    "print(s.find('2'))\n",
    "print(s.find('3'))\n",
    "print(s.find('4'))\n",
    "print(s.find('5'))\n",
    "print(s.find('6'))\n",
    "print(s.find('7'))\n",
    "print(s.find('8'))\n",
    "print(s.find('9'))\n"
   ]
  },
  {
   "cell_type": "code",
   "execution_count": null,
   "metadata": {},
   "outputs": [],
   "source": [
    "DDD11-DDD12-DDD13-DDD14-DDD15-DDD16-DDD17-DDD18-DDD19 DDD21-DDD22-DDD24-DDD27-DDD28-DDD31-DDD32-DDD33-DDD34 DDD35-DDD37-DDD38-DDD41-DDD42-DDD43-DDD44-DDD45-DDD46 DDD47-DDD48-DDD49-DDD51-DDD53-DDD54-DDD55-DDD61-DDD62 DDD63-DDD64-DDD65-DDD66-DDD67-DDD68-DDD69-DDD71-DDD73 DDD74-DDD75-DDD77-DDD79-DDD81-DDD82-DDD83-DDD84-DDD85 DDD86-DDD87-DDD88-DDD89-DDD91-DDD92-DDD93-DDD94-DDD95 DDD96-DDD97-DDD98-DDD99"
   ]
  },
  {
   "cell_type": "code",
   "execution_count": 147,
   "metadata": {
    "ExecuteTime": {
     "end_time": "2021-06-08T10:20:14.439914Z",
     "start_time": "2021-06-08T10:20:14.433922Z"
    }
   },
   "outputs": [
    {
     "name": "stdout",
     "output_type": "stream",
     "text": [
      "Hi\n",
      "Hello\n"
     ]
    }
   ],
   "source": [
    "s = 'Hi\\nHello'\n",
    "print(s)"
   ]
  },
  {
   "cell_type": "code",
   "execution_count": 175,
   "metadata": {
    "ExecuteTime": {
     "end_time": "2021-06-08T11:10:42.878435Z",
     "start_time": "2021-06-08T11:10:42.872436Z"
    }
   },
   "outputs": [
    {
     "data": {
      "text/plain": [
       "<re.Match object; span=(3, 4), match='7'>"
      ]
     },
     "execution_count": 175,
     "metadata": {},
     "output_type": "execute_result"
    }
   ],
   "source": [
    "s = 'DDD73'\n",
    "re.search('\\d',s)"
   ]
  },
  {
   "cell_type": "code",
   "execution_count": 153,
   "metadata": {
    "ExecuteTime": {
     "end_time": "2021-06-08T10:44:43.076153Z",
     "start_time": "2021-06-08T10:44:43.071174Z"
    }
   },
   "outputs": [
    {
     "data": {
      "text/plain": [
       "<re.Match object; span=(3, 5), match='73'>"
      ]
     },
     "execution_count": 153,
     "metadata": {},
     "output_type": "execute_result"
    }
   ],
   "source": [
    "s = 'DDD73'\n",
    "re.search('\\d\\d',s)"
   ]
  },
  {
   "cell_type": "code",
   "execution_count": 150,
   "metadata": {
    "ExecuteTime": {
     "end_time": "2021-06-08T10:22:22.785831Z",
     "start_time": "2021-06-08T10:22:22.773829Z"
    }
   },
   "outputs": [
    {
     "data": {
      "text/plain": [
       "<re.Match object; span=(0, 2), match='AA'>"
      ]
     },
     "execution_count": 150,
     "metadata": {},
     "output_type": "execute_result"
    }
   ],
   "source": [
    "s = 'AAD73'\n",
    "re.search('\\D\\D',s)"
   ]
  },
  {
   "cell_type": "code",
   "execution_count": 154,
   "metadata": {
    "ExecuteTime": {
     "end_time": "2021-06-08T10:45:03.857972Z",
     "start_time": "2021-06-08T10:45:03.843976Z"
    }
   },
   "outputs": [
    {
     "data": {
      "text/plain": [
       "<re.Match object; span=(3, 4), match='7'>"
      ]
     },
     "execution_count": 154,
     "metadata": {},
     "output_type": "execute_result"
    }
   ],
   "source": [
    "s = 'DDD73'\n",
    "re.search('[0-9]',s)"
   ]
  },
  {
   "cell_type": "code",
   "execution_count": 177,
   "metadata": {
    "ExecuteTime": {
     "end_time": "2021-06-08T11:11:46.177920Z",
     "start_time": "2021-06-08T11:11:46.169907Z"
    }
   },
   "outputs": [
    {
     "data": {
      "text/plain": [
       "<re.Match object; span=(3, 5), match='73'>"
      ]
     },
     "execution_count": 177,
     "metadata": {},
     "output_type": "execute_result"
    }
   ],
   "source": [
    "s = 'DDD73'\n",
    "re.search('[0-9]{2}',s)"
   ]
  },
  {
   "cell_type": "markdown",
   "metadata": {},
   "source": [
    "https://regex101.com/"
   ]
  },
  {
   "cell_type": "markdown",
   "metadata": {
    "ExecuteTime": {
     "end_time": "2021-06-08T11:26:36.921707Z",
     "start_time": "2021-06-08T11:26:36.902719Z"
    }
   },
   "source": [
    "|Expressão    | Função                                  | Equivalente               |Exemplo|\n",
    "|-------------|--------------------------------------------|---------------------------|------------------------------ |\n",
    "|``[abc]``    |Corresponde (match) a um caractere __desses a, b ou c__ |                            | 12A34``a``1aaa+|\n",
    "|``[^abc]``   |Corresponde (match) a um caractere __exceto a, b ou c__ |                            | ``1``2A34a1aaa+|\n",
    "|``[a-z]``    |Corresponde (match) a um caractere que __está entre a e z__ |                        | 12A34``a``1aaa+|\n",
    "|``[0-9]``    |Corresponde (match) a um dígito que __está entre 0 e 9__ |                           | ``1``2A34a1aaa+|\n",
    "|``[^a-z]``   |Corresponde (match) a um caractere que __NÃO está entre a e z__  |                   | ``1``2A34a1aaa+|\n",
    "|``[a-zA-Z]`` |Corresponde (match) a um caractere que __está entre a e z ou entre A e Z__ |         | 12``A``34a1aaa+|\n",
    "|``.``        |Corresponde (match) a qualquer caractere |                                           | ``1``2A34a1aaa+|\n",
    "|``\\d``       |Corresponde (match) a um caractere que __está entre 0 e 9__ |``[0-9]``               | ``1``2A34a1aaa+|\n",
    "|``\\D``       |Corresponde (match) a um caractere que __não está entre 0 e 9__ |``[^0-9]``          | 12``A``34a1aaa+|\n",
    "|``\\w``       |Corresponde (match) a uma palavra que __contém dígitos ou letras__ |``[a-zA-Z0-9_]`` | ``1``2A34a1aaa+|\n",
    "|``\\W``       |Corresponde (match) a um dígito que __está entre 0 e 9__ |``[^a-zA-Z0-9_]``          | 12A34a1aaa``+``|\n",
    "|``a?``       |Corresponde (match) a zero ou um caractere __a__ |                                   | `` ``12A34a1aaa+|\n",
    "|``a*``       |Corresponde (match) a zero ou mais caractere __a__ |                                 | `` ``12A34a1aaa+|\n",
    "|``a+``       |Corresponde (match) a um ou mais caractere __a__ |                                   | `` ``12A34a1aaa+|\n",
    "|``a{3}``       |Corresponde (match) a exatamente 3 caracteres __a__ |                              | 12A34a1``aaa``+| \n",
    "|``a{3,}``       |Corresponde (match) a 3 ou mais caracteres __a__ |                                | 12A34a1``aaa``+|\n",
    "|``a{3,6}``       |Corresponde (match) entre 3 a 6 valores do caractere __a__ |                     | 12A34a1``aaa``+|\n",
    "|``^``       |Corresponde (match) ao inicio de uma string |                                         | `` ``12A34a1aaa+|\n",
    "|``$``       |Corresponde (match) ao fim de uma string |                                            | 12A34a1aaa+`` ``|\n",
    "|``\\``       |Usado para indicar caracteres especiais  |                                            | ``\\n``|\n",
    "\n",
    "\n",
    " \n"
   ]
  },
  {
   "cell_type": "code",
   "execution_count": 189,
   "metadata": {
    "ExecuteTime": {
     "end_time": "2021-06-10T23:49:02.120020Z",
     "start_time": "2021-06-10T23:49:02.111011Z"
    }
   },
   "outputs": [
    {
     "name": "stdout",
     "output_type": "stream",
     "text": [
      "ola\n",
      "a\n",
      "todos\n"
     ]
    }
   ],
   "source": [
    "print('ola\\na\\ntodos')"
   ]
  },
  {
   "cell_type": "code",
   "execution_count": null,
   "metadata": {},
   "outputs": [],
   "source": []
  },
  {
   "cell_type": "code",
   "execution_count": 64,
   "metadata": {
    "ExecuteTime": {
     "end_time": "2021-06-04T18:40:18.565626Z",
     "start_time": "2021-06-04T18:40:18.558631Z"
    }
   },
   "outputs": [
    {
     "data": {
      "text/plain": [
       "'13'"
      ]
     },
     "execution_count": 64,
     "metadata": {},
     "output_type": "execute_result"
    }
   ],
   "source": [
    "re.search('[0-9][0-9]', 'ddd13').group()"
   ]
  },
  {
   "cell_type": "code",
   "execution_count": 179,
   "metadata": {
    "ExecuteTime": {
     "end_time": "2021-06-10T23:40:56.741557Z",
     "start_time": "2021-06-10T23:40:56.612444Z"
    }
   },
   "outputs": [
    {
     "data": {
      "text/plain": [
       "<re.Match object; span=(3, 9), match='123044'>"
      ]
     },
     "execution_count": 179,
     "metadata": {},
     "output_type": "execute_result"
    }
   ],
   "source": [
    "s = 'tel123044222ddd'\n",
    "re.search('[0-9][0-9][0-9][0-9][0-9][0-9]', s)"
   ]
  },
  {
   "cell_type": "code",
   "execution_count": 180,
   "metadata": {
    "ExecuteTime": {
     "end_time": "2021-06-10T23:41:14.106440Z",
     "start_time": "2021-06-10T23:41:13.239601Z"
    },
    "scrolled": true
   },
   "outputs": [
    {
     "data": {
      "text/html": [
       "<div>\n",
       "<style scoped>\n",
       "    .dataframe tbody tr th:only-of-type {\n",
       "        vertical-align: middle;\n",
       "    }\n",
       "\n",
       "    .dataframe tbody tr th {\n",
       "        vertical-align: top;\n",
       "    }\n",
       "\n",
       "    .dataframe thead th {\n",
       "        text-align: right;\n",
       "    }\n",
       "</style>\n",
       "<table border=\"1\" class=\"dataframe\">\n",
       "  <thead>\n",
       "    <tr style=\"text-align: right;\">\n",
       "      <th></th>\n",
       "      <th>ddd</th>\n",
       "      <th>estado</th>\n",
       "    </tr>\n",
       "  </thead>\n",
       "  <tbody>\n",
       "    <tr>\n",
       "      <th>0</th>\n",
       "      <td>ddd11</td>\n",
       "      <td>SP</td>\n",
       "    </tr>\n",
       "    <tr>\n",
       "      <th>1</th>\n",
       "      <td>ddd73</td>\n",
       "      <td>BA</td>\n",
       "    </tr>\n",
       "    <tr>\n",
       "      <th>2</th>\n",
       "      <td>ddd28</td>\n",
       "      <td>ES</td>\n",
       "    </tr>\n",
       "    <tr>\n",
       "      <th>3</th>\n",
       "      <td>ddd99</td>\n",
       "      <td>MA</td>\n",
       "    </tr>\n",
       "  </tbody>\n",
       "</table>\n",
       "</div>"
      ],
      "text/plain": [
       "     ddd estado\n",
       "0  ddd11     SP\n",
       "1  ddd73     BA\n",
       "2  ddd28     ES\n",
       "3  ddd99     MA"
      ]
     },
     "execution_count": 180,
     "metadata": {},
     "output_type": "execute_result"
    }
   ],
   "source": [
    "ddd_estado = pd.DataFrame({\n",
    "    'ddd': ['ddd11', 'ddd73', 'ddd28', 'ddd99'],\n",
    "    'estado': ['SP', 'BA', 'ES', 'MA']\n",
    "})\n",
    "ddd_estado"
   ]
  },
  {
   "cell_type": "code",
   "execution_count": 181,
   "metadata": {
    "ExecuteTime": {
     "end_time": "2021-06-10T23:41:14.388061Z",
     "start_time": "2021-06-10T23:41:14.342630Z"
    }
   },
   "outputs": [
    {
     "data": {
      "text/plain": [
       "'ddd11'"
      ]
     },
     "execution_count": 181,
     "metadata": {},
     "output_type": "execute_result"
    }
   ],
   "source": [
    "ddd_estado.iloc[0]['ddd']"
   ]
  },
  {
   "cell_type": "code",
   "execution_count": 182,
   "metadata": {
    "ExecuteTime": {
     "end_time": "2021-06-10T23:41:15.002406Z",
     "start_time": "2021-06-10T23:41:14.904576Z"
    }
   },
   "outputs": [
    {
     "data": {
      "text/plain": [
       "'11'"
      ]
     },
     "execution_count": 182,
     "metadata": {},
     "output_type": "execute_result"
    }
   ],
   "source": [
    "re.search('[0-9][0-9]', ddd_estado.iloc[0]['ddd']).group()"
   ]
  },
  {
   "cell_type": "code",
   "execution_count": 183,
   "metadata": {
    "ExecuteTime": {
     "end_time": "2021-06-10T23:41:15.833894Z",
     "start_time": "2021-06-10T23:41:15.504160Z"
    },
    "scrolled": true
   },
   "outputs": [],
   "source": [
    "ddd_estado['ddd_inteiro'] = ddd_estado.apply(lambda x: re.search('[0-9][0-9]', x['ddd']).group(), axis=1)"
   ]
  },
  {
   "cell_type": "code",
   "execution_count": 185,
   "metadata": {
    "ExecuteTime": {
     "end_time": "2021-06-10T23:41:19.780005Z",
     "start_time": "2021-06-10T23:41:19.704779Z"
    }
   },
   "outputs": [],
   "source": [
    "ddd_estado['ddd_inteiro'] = ddd_estado['ddd_inteiro'].astype(int)"
   ]
  },
  {
   "cell_type": "code",
   "execution_count": 186,
   "metadata": {
    "ExecuteTime": {
     "end_time": "2021-06-10T23:41:19.968604Z",
     "start_time": "2021-06-10T23:41:19.960629Z"
    }
   },
   "outputs": [
    {
     "data": {
      "text/plain": [
       "ddd            object\n",
       "estado         object\n",
       "ddd_inteiro     int32\n",
       "dtype: object"
      ]
     },
     "execution_count": 186,
     "metadata": {},
     "output_type": "execute_result"
    }
   ],
   "source": [
    "ddd_estado.dtypes"
   ]
  },
  {
   "cell_type": "code",
   "execution_count": 187,
   "metadata": {
    "ExecuteTime": {
     "end_time": "2021-06-10T23:41:26.007696Z",
     "start_time": "2021-06-10T23:41:25.928384Z"
    }
   },
   "outputs": [
    {
     "data": {
      "text/html": [
       "<div>\n",
       "<style scoped>\n",
       "    .dataframe tbody tr th:only-of-type {\n",
       "        vertical-align: middle;\n",
       "    }\n",
       "\n",
       "    .dataframe tbody tr th {\n",
       "        vertical-align: top;\n",
       "    }\n",
       "\n",
       "    .dataframe thead th {\n",
       "        text-align: right;\n",
       "    }\n",
       "</style>\n",
       "<table border=\"1\" class=\"dataframe\">\n",
       "  <thead>\n",
       "    <tr style=\"text-align: right;\">\n",
       "      <th></th>\n",
       "      <th>ddd</th>\n",
       "      <th>estado</th>\n",
       "      <th>ddd_inteiro</th>\n",
       "    </tr>\n",
       "  </thead>\n",
       "  <tbody>\n",
       "    <tr>\n",
       "      <th>0</th>\n",
       "      <td>ddd11</td>\n",
       "      <td>SP</td>\n",
       "      <td>11</td>\n",
       "    </tr>\n",
       "    <tr>\n",
       "      <th>1</th>\n",
       "      <td>ddd73</td>\n",
       "      <td>BA</td>\n",
       "      <td>73</td>\n",
       "    </tr>\n",
       "    <tr>\n",
       "      <th>2</th>\n",
       "      <td>ddd28</td>\n",
       "      <td>ES</td>\n",
       "      <td>28</td>\n",
       "    </tr>\n",
       "    <tr>\n",
       "      <th>3</th>\n",
       "      <td>ddd99</td>\n",
       "      <td>MA</td>\n",
       "      <td>99</td>\n",
       "    </tr>\n",
       "  </tbody>\n",
       "</table>\n",
       "</div>"
      ],
      "text/plain": [
       "     ddd estado  ddd_inteiro\n",
       "0  ddd11     SP           11\n",
       "1  ddd73     BA           73\n",
       "2  ddd28     ES           28\n",
       "3  ddd99     MA           99"
      ]
     },
     "execution_count": 187,
     "metadata": {},
     "output_type": "execute_result"
    }
   ],
   "source": [
    "ddd_estado"
   ]
  },
  {
   "cell_type": "code",
   "execution_count": null,
   "metadata": {},
   "outputs": [],
   "source": []
  },
  {
   "cell_type": "code",
   "execution_count": null,
   "metadata": {},
   "outputs": [],
   "source": []
  },
  {
   "cell_type": "code",
   "execution_count": null,
   "metadata": {},
   "outputs": [],
   "source": []
  }
 ],
 "metadata": {
  "kernelspec": {
   "display_name": "Python 3",
   "language": "python",
   "name": "python3"
  },
  "language_info": {
   "codemirror_mode": {
    "name": "ipython",
    "version": 3
   },
   "file_extension": ".py",
   "mimetype": "text/x-python",
   "name": "python",
   "nbconvert_exporter": "python",
   "pygments_lexer": "ipython3",
   "version": "3.8.5"
  },
  "varInspector": {
   "cols": {
    "lenName": 16,
    "lenType": 16,
    "lenVar": 40
   },
   "kernels_config": {
    "python": {
     "delete_cmd_postfix": "",
     "delete_cmd_prefix": "del ",
     "library": "var_list.py",
     "varRefreshCmd": "print(var_dic_list())"
    },
    "r": {
     "delete_cmd_postfix": ") ",
     "delete_cmd_prefix": "rm(",
     "library": "var_list.r",
     "varRefreshCmd": "cat(var_dic_list()) "
    }
   },
   "types_to_exclude": [
    "module",
    "function",
    "builtin_function_or_method",
    "instance",
    "_Feature"
   ],
   "window_display": false
  }
 },
 "nbformat": 4,
 "nbformat_minor": 4
}
